{
 "cells": [
  {
   "cell_type": "markdown",
   "metadata": {},
   "source": [
    "# **WORD SUGGESTION AND AUTO CORRECT**"
   ]
  },
  {
   "cell_type": "markdown",
   "metadata": {},
   "source": [
    "**Step-1. Importing Liberaries**"
   ]
  },
  {
   "cell_type": "code",
   "execution_count": 6,
   "metadata": {},
   "outputs": [],
   "source": [
    "import numpy as np\n",
    "import pandas as pd \n",
    "import textdistance\n",
    "from collections import Counter\n",
    "import re"
   ]
  },
  {
   "cell_type": "markdown",
   "metadata": {},
   "source": [
    "**Step-2. Opening and processing file**"
   ]
  },
  {
   "cell_type": "code",
   "execution_count": 7,
   "metadata": {},
   "outputs": [
    {
     "name": "stdout",
     "output_type": "stream",
     "text": [
      "['the', 'project', 'gutenberg', 'ebook', 'of', 'moby', 'dick', 'or', 'the', 'whale']\n"
     ]
    }
   ],
   "source": [
    "word = []\n",
    "with open(\"S:/Github/NLP_PROJECTS/WORD_SUGGESTION/autocorrect book.txt\", 'r',encoding=\"utf-8\" ) as f:\n",
    "     data = f.read()\n",
    "     data = data.lower()\n",
    "     data = re.sub(r'[^a-zA-Z0-9\\s]', '', data)  # Remove punctuation\n",
    "     data = re.sub(r'\\s+', ' ', data)  # Remove extra spaces     \n",
    "     word = data.split()  # Split into words\n",
    "     print(word[:10])  # Print first 10 words for verification"
   ]
  },
  {
   "cell_type": "markdown",
   "metadata": {},
   "source": [
    "**Step-3. Creating Vocabluary**"
   ]
  },
  {
   "cell_type": "code",
   "execution_count": 8,
   "metadata": {},
   "outputs": [
    {
     "data": {
      "text/html": [
       "<div>\n",
       "<style scoped>\n",
       "    .dataframe tbody tr th:only-of-type {\n",
       "        vertical-align: middle;\n",
       "    }\n",
       "\n",
       "    .dataframe tbody tr th {\n",
       "        vertical-align: top;\n",
       "    }\n",
       "\n",
       "    .dataframe thead th {\n",
       "        text-align: right;\n",
       "    }\n",
       "</style>\n",
       "<table border=\"1\" class=\"dataframe\">\n",
       "  <thead>\n",
       "    <tr style=\"text-align: right;\">\n",
       "      <th></th>\n",
       "      <th>word</th>\n",
       "    </tr>\n",
       "  </thead>\n",
       "  <tbody>\n",
       "    <tr>\n",
       "      <th>0</th>\n",
       "      <td>helterskelter</td>\n",
       "    </tr>\n",
       "    <tr>\n",
       "      <th>1</th>\n",
       "      <td>epitome</td>\n",
       "    </tr>\n",
       "    <tr>\n",
       "      <th>2</th>\n",
       "      <td>deceased</td>\n",
       "    </tr>\n",
       "    <tr>\n",
       "      <th>3</th>\n",
       "      <td>answered</td>\n",
       "    </tr>\n",
       "    <tr>\n",
       "      <th>4</th>\n",
       "      <td>firm</td>\n",
       "    </tr>\n",
       "    <tr>\n",
       "      <th>5</th>\n",
       "      <td>remembrances</td>\n",
       "    </tr>\n",
       "    <tr>\n",
       "      <th>6</th>\n",
       "      <td>fitz</td>\n",
       "    </tr>\n",
       "    <tr>\n",
       "      <th>7</th>\n",
       "      <td>infallible</td>\n",
       "    </tr>\n",
       "    <tr>\n",
       "      <th>8</th>\n",
       "      <td>fine</td>\n",
       "    </tr>\n",
       "    <tr>\n",
       "      <th>9</th>\n",
       "      <td>lonesomeness</td>\n",
       "    </tr>\n",
       "  </tbody>\n",
       "</table>\n",
       "</div>"
      ],
      "text/plain": [
       "            word\n",
       "0  helterskelter\n",
       "1        epitome\n",
       "2       deceased\n",
       "3       answered\n",
       "4           firm\n",
       "5   remembrances\n",
       "6           fitz\n",
       "7     infallible\n",
       "8           fine\n",
       "9   lonesomeness"
      ]
     },
     "execution_count": 8,
     "metadata": {},
     "output_type": "execute_result"
    }
   ],
   "source": [
    "set_word = set(word)  # Create a set of unique words\n",
    "word_list = list(set_word)  # Convert set back to list\n",
    "vocab = pd.DataFrame(word_list, columns=['word'])  # Create DataFram\n",
    "vocab.head(10)  # Display first 10 rows of the DataFrame"
   ]
  },
  {
   "cell_type": "markdown",
   "metadata": {},
   "source": [
    "**Step-4. Getting word Probability**"
   ]
  },
  {
   "cell_type": "code",
   "execution_count": 9,
   "metadata": {},
   "outputs": [],
   "source": [
    "word_freq = Counter(word)  # Count occurrences of each word\n",
    "\n",
    "word_probs = {}\n",
    "for i in word_freq.keys():\n",
    "    word_probs[i] = word_freq[i] / len(word)  # Calculate probabilities\n",
    "    \n"
   ]
  },
  {
   "cell_type": "markdown",
   "metadata": {},
   "source": [
    "**Step-3. Autocorrect function**"
   ]
  },
  {
   "cell_type": "code",
   "execution_count": 10,
   "metadata": {},
   "outputs": [
    {
     "name": "stdout",
     "output_type": "stream",
     "text": [
      "Autocorrected word:    word  probability\n",
      "0  move     0.000037\n",
      "1   mob     0.000023\n",
      "2  moth     0.000014\n",
      "3   mop     0.000005\n",
      "4   mow     0.000005\n",
      "move\n",
      "mob\n",
      "moth\n",
      "mop\n",
      "mow\n"
     ]
    }
   ],
   "source": [
    "def autocorrect(word, vocab, word_probs):\n",
    "    \n",
    "    # Calculate the probability of the closest 5 word\n",
    "    closest_words = sorted(vocab['word'], key=lambda x: textdistance.levenshtein.distance(word, x))[:5]\n",
    "    closest_word_probs = {w: word_probs[w] for w in closest_words if w in word_probs}\n",
    "    # Sort the closest words by their probabilities     \n",
    "    sorted_closest_words = sorted(closest_word_probs.items(), key=lambda x: x[1], reverse=True)\n",
    "    # Return the 5 word with the highest probability\n",
    "    return pd.DataFrame(sorted_closest_words[:5],columns=['word', 'probability'])\n",
    "  \n",
    "autocorrected_word = autocorrect(\"mov\", vocab, word_probs)\n",
    "print(f\"Autocorrected word: {autocorrected_word}\")  # Print autocorrected word and probability\n",
    "for word in autocorrected_word['word']:\n",
    "    print(word)"
   ]
  },
  {
   "cell_type": "code",
   "execution_count": null,
   "metadata": {},
   "outputs": [],
   "source": []
  }
 ],
 "metadata": {
  "kernelspec": {
   "display_name": "autocomplete",
   "language": "python",
   "name": "python3"
  },
  "language_info": {
   "codemirror_mode": {
    "name": "ipython",
    "version": 3
   },
   "file_extension": ".py",
   "mimetype": "text/x-python",
   "name": "python",
   "nbconvert_exporter": "python",
   "pygments_lexer": "ipython3",
   "version": "3.10.16"
  }
 },
 "nbformat": 4,
 "nbformat_minor": 2
}
